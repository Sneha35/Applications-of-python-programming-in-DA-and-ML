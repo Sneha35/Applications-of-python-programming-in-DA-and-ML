{
  "nbformat": 4,
  "nbformat_minor": 0,
  "metadata": {
    "colab": {
      "name": "Day1_Session1.ipynb",
      "provenance": [],
      "collapsed_sections": [],
      "authorship_tag": "ABX9TyNvEmVZCZx5U1a5hXtHNnrU",
      "include_colab_link": true
    },
    "kernelspec": {
      "name": "python3",
      "display_name": "Python 3"
    }
  },
  "cells": [
    {
      "cell_type": "markdown",
      "metadata": {
        "id": "view-in-github",
        "colab_type": "text"
      },
      "source": [
        "<a href=\"https://colab.research.google.com/github/Sneha35/Applications-of-python-programming-in-DA-and-ML/blob/master/Day1_Session1.ipynb\" target=\"_parent\"><img src=\"https://colab.research.google.com/assets/colab-badge.svg\" alt=\"Open In Colab\"/></a>"
      ]
    },
    {
      "cell_type": "code",
      "metadata": {
        "id": "u1mAriEC_kCX",
        "colab_type": "code",
        "colab": {}
      },
      "source": [
        "Python Program to Add Two Numbers getting through key board"
      ],
      "execution_count": 0,
      "outputs": []
    },
    {
      "cell_type": "markdown",
      "metadata": {
        "id": "MYLPQ6K0_l5b",
        "colab_type": "text"
      },
      "source": [
        ""
      ]
    },
    {
      "cell_type": "code",
      "metadata": {
        "id": "BwSUg0xu_mUb",
        "colab_type": "code",
        "colab": {
          "base_uri": "https://localhost:8080/",
          "height": 67
        },
        "outputId": "afe3ea9d-f17e-4c22-950e-96549203a4a1"
      },
      "source": [
        "# sum of two nos\n",
        "num1 = int(input(\"Enter first no\"))\n",
        "num2 = int(input(\"Enter second no\"))\n",
        "\n",
        "# Adding the two numbers\n",
        "sum = num1 + num2\n",
        "\n",
        "# Display the sum\n",
        "print('The sum of {0} and {1} is {2}'.format(num1, num2, sum))"
      ],
      "execution_count": 1,
      "outputs": [
        {
          "output_type": "stream",
          "text": [
            "Enter first no4\n",
            "Enter second no7\n",
            "The sum of 4 and 7 is 11\n"
          ],
          "name": "stdout"
        }
      ]
    },
    {
      "cell_type": "markdown",
      "metadata": {
        "id": "wmhcPFQIAKnR",
        "colab_type": "text"
      },
      "source": [
        "Python program to check if the input year is a leap year or not"
      ]
    },
    {
      "cell_type": "code",
      "metadata": {
        "id": "cOhcsHb-AMxV",
        "colab_type": "code",
        "colab": {
          "base_uri": "https://localhost:8080/",
          "height": 50
        },
        "outputId": "d65d2ab0-5d8d-42df-eac5-86360845260a"
      },
      "source": [
        "# To get year (integer input) from the user\n",
        "year = int(input(\"Enter a year: \"))\n",
        "\n",
        "if ((year % 4) == 0 and (year % 100)  != 0) or ((year % 400) == 0):\n",
        "           print(\"{0} is a leap year\".format(year))\n",
        "else:\n",
        "           print(\"{0} is not a leap year\".format(year))"
      ],
      "execution_count": 2,
      "outputs": [
        {
          "output_type": "stream",
          "text": [
            "Enter a year: 2001\n",
            "2001 is not a leap year\n"
          ],
          "name": "stdout"
        }
      ]
    },
    {
      "cell_type": "markdown",
      "metadata": {
        "id": "9wwYg6tMAQ_H",
        "colab_type": "text"
      },
      "source": [
        "Python Program to Generate a Random Number"
      ]
    },
    {
      "cell_type": "markdown",
      "metadata": {
        "id": "jOfljsRuAWP_",
        "colab_type": "text"
      },
      "source": [
        ""
      ]
    },
    {
      "cell_type": "code",
      "metadata": {
        "id": "d-OnPUdtAXOf",
        "colab_type": "code",
        "colab": {
          "base_uri": "https://localhost:8080/",
          "height": 34
        },
        "outputId": "701c0be7-a984-41e2-a25d-67903c9d95ae"
      },
      "source": [
        "# Program to generate a random number between 0 and 9\n",
        "# import the random module\n",
        "import random\n",
        "print(random.randint(0,9))"
      ],
      "execution_count": 3,
      "outputs": [
        {
          "output_type": "stream",
          "text": [
            "8\n"
          ],
          "name": "stdout"
        }
      ]
    },
    {
      "cell_type": "markdown",
      "metadata": {
        "id": "XXlC3ti4BIi5",
        "colab_type": "text"
      },
      "source": [
        "Python Program to Convert Kilometers to Miles"
      ]
    },
    {
      "cell_type": "code",
      "metadata": {
        "id": "Vqgxr0BrBJKD",
        "colab_type": "code",
        "colab": {
          "base_uri": "https://localhost:8080/",
          "height": 50
        },
        "outputId": "e167465a-ad20-4c98-a9fc-dfa18cab0af7"
      },
      "source": [
        "# To take kilometers from the user, uncomment the code below\n",
        "kilometers = int(input(\"Enter value in kilometers\"))\n",
        "\n",
        "# conversion factor\n",
        "conv_fac = 0.621371\n",
        "\n",
        "# calculate miles\n",
        "miles = kilometers * conv_fac\n",
        "print('%0.3f kilometers is equal to %0.3f miles' %(kilometers,miles))"
      ],
      "execution_count": 4,
      "outputs": [
        {
          "output_type": "stream",
          "text": [
            "Enter value in kilometers100\n",
            "100.000 kilometers is equal to 62.137 miles\n"
          ],
          "name": "stdout"
        }
      ]
    },
    {
      "cell_type": "markdown",
      "metadata": {
        "id": "2VRdC7RrBgq3",
        "colab_type": "text"
      },
      "source": [
        "Python Program to Solve Quadratic Equation"
      ]
    },
    {
      "cell_type": "code",
      "metadata": {
        "id": "-9Ap9YRyBhKW",
        "colab_type": "code",
        "colab": {
          "base_uri": "https://localhost:8080/",
          "height": 84
        },
        "outputId": "6bd58b55-1cca-4d5e-cbbb-228e48d7aa19"
      },
      "source": [
        "# Solve the quadratic equation ax**2 + bx + c = 0\n",
        "# importing  complex math module\n",
        "import cmath\n",
        "\n",
        " # To take coefficient input from the users\n",
        "a = float(input('Enter a: '))\n",
        "b = float(input('Enter b: '))\n",
        "c = float(input('Enter c: '))\n",
        "\n",
        "# calculate the discriminant\n",
        "d = (b**2) - (4*a*c)\n",
        "\n",
        "# find two solutions\n",
        "sol1 = (-b-cmath.sqrt(d))/(2*a)\n",
        "sol2 = (-b+cmath.sqrt(d))/(2*a)\n",
        "\n",
        "print('The solution are {0} and {1}'.format(sol1,sol2))"
      ],
      "execution_count": 5,
      "outputs": [
        {
          "output_type": "stream",
          "text": [
            "Enter a: 2\n",
            "Enter b: 3\n",
            "Enter c: 4\n",
            "The solution are (-0.75-1.1989578808281798j) and (-0.75+1.1989578808281798j)\n"
          ],
          "name": "stdout"
        }
      ]
    },
    {
      "cell_type": "markdown",
      "metadata": {
        "id": "Y4xGOztrBvAY",
        "colab_type": "text"
      },
      "source": [
        "Python Program to find prime or not using function"
      ]
    },
    {
      "cell_type": "code",
      "metadata": {
        "id": "3YjD4GICBvYq",
        "colab_type": "code",
        "colab": {
          "base_uri": "https://localhost:8080/",
          "height": 50
        },
        "outputId": "da0b982b-26c1-4582-e011-f2ba680f95e2"
      },
      "source": [
        "\n",
        "\n",
        "def test_prime(n):\n",
        "    if (n==1):\n",
        "        return False\n",
        "    elif (n==2):\n",
        "        return True;\n",
        "    else:\n",
        "        for x in range(2,n):\n",
        "            if(n % x==0):\n",
        "                return False\n",
        "        return True\n",
        "no=int(input(\"Enter the number\"))\n",
        "if (test_prime(no)) is True :\n",
        "    print(\" {0} is a prime no\".format(no))\n",
        "else:\n",
        "     print(\" {0} is not a prime no\".format(no))"
      ],
      "execution_count": 6,
      "outputs": [
        {
          "output_type": "stream",
          "text": [
            "Enter the number11\n",
            " 11 is a prime no\n"
          ],
          "name": "stdout"
        }
      ]
    },
    {
      "cell_type": "markdown",
      "metadata": {
        "id": "_a4zCUfXB-TO",
        "colab_type": "text"
      },
      "source": [
        "Calculator program"
      ]
    },
    {
      "cell_type": "code",
      "metadata": {
        "id": "UAoDBc6HB-o8",
        "colab_type": "code",
        "colab": {
          "base_uri": "https://localhost:8080/",
          "height": 1000
        },
        "outputId": "6b6cdae9-aea1-426c-af02-5bcd4811db34"
      },
      "source": [
        "loop = 1 # 1 means loop; anything else means don't loop.\n",
        "choice = 0 # This variable holds the user's choice in the menu\n",
        "\n",
        "def add(x,y):\n",
        "    return x+y      \n",
        "def sub(x,y):\n",
        "    return x-y\n",
        "def mul(x,y):\n",
        "    return x*y\t\n",
        "def div(x,y):\n",
        "    return x/y\n",
        "\n",
        "while loop == 1:\n",
        "# Print what options you have\n",
        "  print (\"Welcome to calculator.py\")\n",
        "  print (\"your options are:\") \n",
        "  print (\"\")\n",
        "  print(\"1) Addition\")\n",
        "  print(\"2) Subtraction\")\n",
        "  print(\"3) Multiplication\")\n",
        "  print(\"4) Division\")\n",
        "  print(\"5) Quit calculator.py\")\n",
        "  print(\"\")\n",
        "  try:\n",
        "    choice = int(input(\"Choose your option: \"))\n",
        "  except:\n",
        "    print('please enter a valid number for option')\n",
        "    print(\"\")\n",
        "    print(\"\")\n",
        "  if choice == 1:\n",
        "    x = int(input(\"Enter 1st no: \"))\n",
        "    y = int(input(\"Enter 2nd no: \"))\n",
        "    print(\"The answer is \",add(x,y))\n",
        "\n",
        "  elif choice == 2:\n",
        "    x = int(input(\"Enter 1st no: \"))\n",
        "    y = int(input(\"Enter 2nd no: \"))\n",
        "    print(\"answer is \",sub(x,y))\n",
        "\n",
        "  elif choice == 3:\n",
        "    x = int(input(\"Enter 1st no: \"))\n",
        "    y = int(input(\"Enter 2nd no: \"))\n",
        "    print(\"answer is \",mul(x,y))\n",
        "\n",
        "  elif choice == 4:\n",
        "    x = int(input(\"Enter 1st no: \"))\n",
        "    y = int(input(\"Enter 2nd no: \"))\n",
        "    print(\"answer is \",div(x,y))\n",
        "\n",
        "  elif choice == 5:\n",
        "    loop = 0\n",
        "\n",
        "  else:\n",
        "    print(\"please choice a valid option from 1 to 5\")\n",
        "    choice=0\n",
        "    print (\"Thank-you for using calculator.py!\")"
      ],
      "execution_count": 7,
      "outputs": [
        {
          "output_type": "stream",
          "text": [
            "Welcome to calculator.py\n",
            "your options are:\n",
            "\n",
            "1) Addition\n",
            "2) Subtraction\n",
            "3) Multiplication\n",
            "4) Division\n",
            "5) Quit calculator.py\n",
            "\n",
            "Choose your option: 1\n",
            "Enter 1st no: 2\n",
            "Enter 2nd no: 3\n",
            "The answer is  5\n",
            "Welcome to calculator.py\n",
            "your options are:\n",
            "\n",
            "1) Addition\n",
            "2) Subtraction\n",
            "3) Multiplication\n",
            "4) Division\n",
            "5) Quit calculator.py\n",
            "\n",
            "Choose your option: 2\n",
            "Enter 1st no: 5\n",
            "Enter 2nd no: 2\n",
            "answer is  3\n",
            "Welcome to calculator.py\n",
            "your options are:\n",
            "\n",
            "1) Addition\n",
            "2) Subtraction\n",
            "3) Multiplication\n",
            "4) Division\n",
            "5) Quit calculator.py\n",
            "\n",
            "Choose your option: 3\n",
            "Enter 1st no: 4\n",
            "Enter 2nd no: 5\n",
            "answer is  20\n",
            "Welcome to calculator.py\n",
            "your options are:\n",
            "\n",
            "1) Addition\n",
            "2) Subtraction\n",
            "3) Multiplication\n",
            "4) Division\n",
            "5) Quit calculator.py\n",
            "\n",
            "Choose your option: 4\n",
            "Enter 1st no: 8\n",
            "Enter 2nd no: 2\n",
            "answer is  4.0\n",
            "Welcome to calculator.py\n",
            "your options are:\n",
            "\n",
            "1) Addition\n",
            "2) Subtraction\n",
            "3) Multiplication\n",
            "4) Division\n",
            "5) Quit calculator.py\n",
            "\n",
            "Choose your option: 5\n"
          ],
          "name": "stdout"
        }
      ]
    },
    {
      "cell_type": "markdown",
      "metadata": {
        "id": "y42FtK62Cx0b",
        "colab_type": "text"
      },
      "source": [
        "Find the compound interest for the given p,n,r (formula : p(1+n*r/100)n )"
      ]
    },
    {
      "cell_type": "code",
      "metadata": {
        "id": "0VBDqx_7CyHG",
        "colab_type": "code",
        "colab": {
          "base_uri": "https://localhost:8080/",
          "height": 84
        },
        "outputId": "267ed879-19c1-4487-a53c-3df1b9dfe486"
      },
      "source": [
        "def comp_int(p,n,r):\n",
        "  CI = p * (pow((1 + (n * r) / 100), n)) \n",
        "  print(\"Compound interest is\", CI) \n",
        "p = int(input(\"Enter p value: \"))\n",
        "n = int(input(\"Enter n value: \"))\n",
        "r = int(input(\"Enter r value: \"))\n",
        "comp_int(p,n,r)"
      ],
      "execution_count": 8,
      "outputs": [
        {
          "output_type": "stream",
          "text": [
            "Enter p value: 8\n",
            "Enter n value: 2\n",
            "Enter r value: 3\n",
            "Compound interest is 8.988800000000001\n"
          ],
          "name": "stdout"
        }
      ]
    },
    {
      "cell_type": "markdown",
      "metadata": {
        "id": "_mDS1ZBEDc0f",
        "colab_type": "text"
      },
      "source": [
        "Convert centegrade to farenheit ( f= 9/5*c+32)"
      ]
    },
    {
      "cell_type": "code",
      "metadata": {
        "id": "LWGojmN0DdMM",
        "colab_type": "code",
        "colab": {
          "base_uri": "https://localhost:8080/",
          "height": 50
        },
        "outputId": "c8855d3c-8ba5-41ac-8e55-07899a6573a9"
      },
      "source": [
        "c = float(input(\"Enter temperature in centegrade: \"))\n",
        "f = (c * 9/5) + 32\n",
        "print('%.2f Centegrade is: %0.2f Fahrenheit' %(c, f))"
      ],
      "execution_count": 9,
      "outputs": [
        {
          "output_type": "stream",
          "text": [
            "Enter temperature in centegrade: 100\n",
            "100.00 Centegrade is: 212.00 Fahrenheit\n"
          ],
          "name": "stdout"
        }
      ]
    },
    {
      "cell_type": "markdown",
      "metadata": {
        "id": "GWJv91UrEeX3",
        "colab_type": "text"
      },
      "source": [
        "Find the greater of two nos"
      ]
    },
    {
      "cell_type": "code",
      "metadata": {
        "id": "l00zQemAEeuW",
        "colab_type": "code",
        "colab": {
          "base_uri": "https://localhost:8080/",
          "height": 67
        },
        "outputId": "81753bcb-a36c-44e9-ba11-7e3508505207"
      },
      "source": [
        "n1=int(input(\"enter the first number:\"))\n",
        "n2=int(input(\"enter the second number:\"))\n",
        "if n1>=n2:\n",
        "  l=n1\n",
        "else:\n",
        "  l=n2\n",
        "print(\"the largest number is:\",l)"
      ],
      "execution_count": 10,
      "outputs": [
        {
          "output_type": "stream",
          "text": [
            "enter the first number:6\n",
            "enter the second number:5\n",
            "the largest number is: 6\n"
          ],
          "name": "stdout"
        }
      ]
    },
    {
      "cell_type": "markdown",
      "metadata": {
        "id": "fwfireNsEywP",
        "colab_type": "text"
      },
      "source": [
        "\n",
        "Write a program for finding surface areas of cylinder and cone (2PIrrh, 1/3PIrrh) using function"
      ]
    },
    {
      "cell_type": "code",
      "metadata": {
        "id": "ab63EGXrEzDt",
        "colab_type": "code",
        "colab": {
          "base_uri": "https://localhost:8080/",
          "height": 84
        },
        "outputId": "ff1ba531-75c9-499f-9baf-0bdfc3641295"
      },
      "source": [
        "import math \n",
        "pi = math.pi \n",
        "   \n",
        "def sa_cone(r, h): \n",
        "    return (1 / 3) * pi * r * r * h\n",
        "def sa_cylinder(r, h): \n",
        "    return 2 * pi * r * r * h\n",
        "\n",
        "r=float(input(\"Enter the radius:\"))\n",
        "h=float(input(\"Enter the height:\"))\n",
        "print( \"Surface Area Of Cylinder : \", sa_cylinder(r , h) )\n",
        "print( \"Surface Area Of Cone : \", sa_cone(r , h) )"
      ],
      "execution_count": 11,
      "outputs": [
        {
          "output_type": "stream",
          "text": [
            "Enter the radius:4\n",
            "Enter the height:8\n",
            "Surface Area Of Cylinder :  804.247719318987\n",
            "Surface Area Of Cone :  134.0412865531645\n"
          ],
          "name": "stdout"
        }
      ]
    },
    {
      "cell_type": "markdown",
      "metadata": {
        "id": "L_Hf12IcFC6Z",
        "colab_type": "text"
      },
      "source": [
        "Find the greatest of four nos ( using ‘and’ operator) using function."
      ]
    },
    {
      "cell_type": "code",
      "metadata": {
        "id": "KC3udyXwFDgL",
        "colab_type": "code",
        "colab": {
          "base_uri": "https://localhost:8080/",
          "height": 101
        },
        "outputId": "c71aea8d-6e5c-4f28-d1e3-2106722bcc7b"
      },
      "source": [
        "def large(n1,n2,n3,n4):\n",
        "  if n1>n2 and n1>n3 and n1>n4:\n",
        "    return n1\n",
        "  elif n2>n3 and n2>n4:\n",
        "    return n2\n",
        "  elif n3>n4:\n",
        "    return n3\n",
        "  else:\n",
        "    return n4\n",
        "n1=int(input(\"Enter the first number:\"))\n",
        "n2=int(input(\"Enter the second number:\"))\n",
        "n3=int(input(\"Enter the third number:\"))\n",
        "n4=int(input(\"Enter the fourth number:\"))\n",
        "print(\"The greatest of the four numbers is \",(large(n1,n2,n3,n4)))"
      ],
      "execution_count": 12,
      "outputs": [
        {
          "output_type": "stream",
          "text": [
            "Enter the first number:6\n",
            "Enter the second number:3\n",
            "Enter the third number:8\n",
            "Enter the fourth number:2\n",
            "The greatest of the four numbers is  8\n"
          ],
          "name": "stdout"
        }
      ]
    },
    {
      "cell_type": "markdown",
      "metadata": {
        "id": "XdgVPK4SFOhw",
        "colab_type": "text"
      },
      "source": [
        "Write a menu program to perform the operations ( ODDorEven, Factorial, ODDNoUptoN, PrimeUptoN ) using functions for two nos with menu choice"
      ]
    },
    {
      "cell_type": "code",
      "metadata": {
        "id": "vQYAf9D1FO3m",
        "colab_type": "code",
        "colab": {
          "base_uri": "https://localhost:8080/",
          "height": 974
        },
        "outputId": "cd3588f4-2444-4858-b7fd-c19dc6d077cf"
      },
      "source": [
        "loop = 1 \n",
        "choice = 0\n",
        "def odd_even(x):\n",
        "  if x%2==0:\n",
        "    return True\n",
        "  else:\n",
        "    return False\n",
        "\n",
        "def fact(x):\n",
        "  if(x==0):\n",
        "    return 1\n",
        "  else:\n",
        "    return x*fact(x-1)\n",
        "\n",
        "def OddUpto(x):\n",
        "  for num in range(1,x+1):\n",
        "    if num % 2 != 0: \n",
        "        print(num, end = \" \")\n",
        "  print(\" \") \n",
        "  print(\" \") \n",
        "\n",
        "def PrimeUpto(x):\n",
        "  for num in range(2,x+1):\n",
        "    i = 2\n",
        "    for i in range(2, num):\n",
        "        if(num % i == 0):\n",
        "            i = num\n",
        "            break;\n",
        "    if(i != num):\n",
        "        print(num, end=\" \")\n",
        "  print(\" \") \n",
        "  print(\" \") \n",
        "\n",
        "while loop == 1:\n",
        "  print(\"Menu:\") \n",
        "  print(\"\")\n",
        "  print(\"1) Odd or Even\")\n",
        "  print(\"2) Factorial\")\n",
        "  print(\"3) Odd number Upto N\")\n",
        "  print(\"4) Prime number Upto N \")\n",
        "  print(\"5) Quit\")\n",
        "  print(\"\")\n",
        "  try:\n",
        "    choice = int(input(\"Choose your option: \"))\n",
        "  except:\n",
        "    print('please enter a valid number for option')\n",
        "    print(\"\")\n",
        "    print(\"\")\n",
        "  if choice == 1:\n",
        "    x = int(input(\"Enter a value: \"))\n",
        "    if odd_even(x):\n",
        "      print(x,\" is even\")\n",
        "    else:\n",
        "      print(x,\" is odd\")\n",
        "\n",
        "  elif choice == 2:\n",
        "    x = int(input(\"Enter a value: \"))\n",
        "    print(\"Factorial of \",x,\" is \",fact(x))\n",
        "\n",
        "  elif choice == 3:\n",
        "    x = int(input(\"Enter a value: \"))\n",
        "    print(\"Odd numbers upto \",x,\" are:\")\n",
        "    OddUpto(x)\n",
        "\n",
        "  elif choice == 4:\n",
        "    x = int(input(\"Enter a value: \"))\n",
        "    print(\"Prime numbers upto \",x,\" are:\")\n",
        "    PrimeUpto(x)\n",
        "\n",
        "  elif choice == 5:\n",
        "    loop = 0\n",
        "\n",
        "  else:\n",
        "    print(\"please choice a valid option from 1 to 5\")\n",
        "    choice=0\n",
        "\n"
      ],
      "execution_count": 13,
      "outputs": [
        {
          "output_type": "stream",
          "text": [
            "Menu:\n",
            "\n",
            "1) Odd or Even\n",
            "2) Factorial\n",
            "3) Odd number Upto N\n",
            "4) Prime number Upto N \n",
            "5) Quit\n",
            "\n",
            "Choose your option: 1\n",
            "Enter a value: 3\n",
            "3  is odd\n",
            "Menu:\n",
            "\n",
            "1) Odd or Even\n",
            "2) Factorial\n",
            "3) Odd number Upto N\n",
            "4) Prime number Upto N \n",
            "5) Quit\n",
            "\n",
            "Choose your option: 2\n",
            "Enter a value: 4\n",
            "Factorial of  4  is  24\n",
            "Menu:\n",
            "\n",
            "1) Odd or Even\n",
            "2) Factorial\n",
            "3) Odd number Upto N\n",
            "4) Prime number Upto N \n",
            "5) Quit\n",
            "\n",
            "Choose your option: 3\n",
            "Enter a value: 9\n",
            "Odd numbers upto  9  are:\n",
            "1 3 5 7 9  \n",
            " \n",
            "Menu:\n",
            "\n",
            "1) Odd or Even\n",
            "2) Factorial\n",
            "3) Odd number Upto N\n",
            "4) Prime number Upto N \n",
            "5) Quit\n",
            "\n",
            "Choose your option: 4\n",
            "Enter a value: 17\n",
            "Prime numbers upto  17  are:\n",
            "3 5 7 11 13 17  \n",
            " \n",
            "Menu:\n",
            "\n",
            "1) Odd or Even\n",
            "2) Factorial\n",
            "3) Odd number Upto N\n",
            "4) Prime number Upto N \n",
            "5) Quit\n",
            "\n",
            "Choose your option: 5\n"
          ],
          "name": "stdout"
        }
      ]
    },
    {
      "cell_type": "markdown",
      "metadata": {
        "id": "-5TETpApF7st",
        "colab_type": "text"
      },
      "source": [
        ""
      ]
    },
    {
      "cell_type": "code",
      "metadata": {
        "id": "949068jFF8EP",
        "colab_type": "code",
        "colab": {}
      },
      "source": [
        ""
      ],
      "execution_count": 0,
      "outputs": []
    }
  ]
}