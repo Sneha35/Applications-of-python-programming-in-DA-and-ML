{
  "nbformat": 4,
  "nbformat_minor": 0,
  "metadata": {
    "colab": {
      "name": "Day_2_session_1_exercise.ipynb",
      "provenance": [],
      "collapsed_sections": [],
      "authorship_tag": "ABX9TyNBlFjvorpbP704Zl3pMeED",
      "include_colab_link": true
    },
    "kernelspec": {
      "name": "python3",
      "display_name": "Python 3"
    }
  },
  "cells": [
    {
      "cell_type": "markdown",
      "metadata": {
        "id": "view-in-github",
        "colab_type": "text"
      },
      "source": [
        "<a href=\"https://colab.research.google.com/github/Sneha35/Applications-of-python-programming-in-DA-and-ML/blob/master/Day_2_session_1_exercise.ipynb\" target=\"_parent\"><img src=\"https://colab.research.google.com/assets/colab-badge.svg\" alt=\"Open In Colab\"/></a>"
      ]
    },
    {
      "cell_type": "markdown",
      "metadata": {
        "id": "w5YUTPmbgld_",
        "colab_type": "text"
      },
      "source": [
        "LIST\n",
        "\n",
        "print multiples of 3 upto 200 using a list\n",
        "\n",
        "print the nos only divisable by 5 and 7 between 1000 and 2000 using a list( both inclusive)"
      ]
    },
    {
      "cell_type": "code",
      "metadata": {
        "id": "fdoTWH0qgfN0",
        "colab_type": "code",
        "colab": {
          "base_uri": "https://localhost:8080/",
          "height": 54
        },
        "outputId": "0a103f73-6aa9-4972-ecd2-bbd3b445e28b"
      },
      "source": [
        "print([x for x in range(3,200+1,3)])"
      ],
      "execution_count": 1,
      "outputs": [
        {
          "output_type": "stream",
          "text": [
            "[3, 6, 9, 12, 15, 18, 21, 24, 27, 30, 33, 36, 39, 42, 45, 48, 51, 54, 57, 60, 63, 66, 69, 72, 75, 78, 81, 84, 87, 90, 93, 96, 99, 102, 105, 108, 111, 114, 117, 120, 123, 126, 129, 132, 135, 138, 141, 144, 147, 150, 153, 156, 159, 162, 165, 168, 171, 174, 177, 180, 183, 186, 189, 192, 195, 198]\n"
          ],
          "name": "stdout"
        }
      ]
    },
    {
      "cell_type": "code",
      "metadata": {
        "id": "OT217lbOgy35",
        "colab_type": "code",
        "colab": {
          "base_uri": "https://localhost:8080/",
          "height": 34
        },
        "outputId": "8ad92d1f-1a80-421c-907c-11c10f6ad165"
      },
      "source": [
        "print([i for i in range(1000,2001) if i%5==0 and i%7==0])"
      ],
      "execution_count": 2,
      "outputs": [
        {
          "output_type": "stream",
          "text": [
            "[1015, 1050, 1085, 1120, 1155, 1190, 1225, 1260, 1295, 1330, 1365, 1400, 1435, 1470, 1505, 1540, 1575, 1610, 1645, 1680, 1715, 1750, 1785, 1820, 1855, 1890, 1925, 1960, 1995]\n"
          ],
          "name": "stdout"
        }
      ]
    },
    {
      "cell_type": "markdown",
      "metadata": {
        "id": "EXE7TuyLhaEG",
        "colab_type": "text"
      },
      "source": [
        "Python Program to put the even and odd elements in a list into two different lists."
      ]
    },
    {
      "cell_type": "code",
      "metadata": {
        "id": "Yo0GLbeuhaUl",
        "colab_type": "code",
        "colab": {
          "base_uri": "https://localhost:8080/",
          "height": 118
        },
        "outputId": "ba049201-d5bf-49e8-d037-616c5d9fbf4d"
      },
      "source": [
        "a=[int(input(\"Enter element:\")) for i in range(int(input(\"Enter number of elements:\")))]\n",
        "print(\"The even list\",[j for j in a if j%2==0])\n",
        "print(\"The odd list\",[j for j in a if j%2!=0])"
      ],
      "execution_count": 4,
      "outputs": [
        {
          "output_type": "stream",
          "text": [
            "Enter number of elements:3\n",
            "Enter element:2\n",
            "Enter element:5\n",
            "Enter element:7\n",
            "The even list [2]\n",
            "The odd list [5, 7]\n"
          ],
          "name": "stdout"
        }
      ]
    },
    {
      "cell_type": "markdown",
      "metadata": {
        "id": "FN5cPC3chniO",
        "colab_type": "text"
      },
      "source": [
        "The worked out example to be more pythonic\n",
        "\n",
        "Program to find the largest number in a list."
      ]
    },
    {
      "cell_type": "code",
      "metadata": {
        "id": "7Wc8tgnxhn1t",
        "colab_type": "code",
        "colab": {
          "base_uri": "https://localhost:8080/",
          "height": 118
        },
        "outputId": "9bcc1a23-137f-4303-c949-77b0c1983cdd"
      },
      "source": [
        "x=0\n",
        "print('The greatest no is',max([int(input(x)) for i in range(int(input(\"Enter n\")))]))"
      ],
      "execution_count": 5,
      "outputs": [
        {
          "output_type": "stream",
          "text": [
            "Enter n4\n",
            "5\n",
            "6\n",
            "3\n",
            "4\n",
            "The greatest no is 6\n"
          ],
          "name": "stdout"
        }
      ]
    },
    {
      "cell_type": "markdown",
      "metadata": {
        "id": "mB0-YyObh4ja",
        "colab_type": "text"
      },
      "source": [
        "Print perfect squares and divisible by 5 between 500 and 1000( (both inclusive) using list"
      ]
    },
    {
      "cell_type": "code",
      "metadata": {
        "id": "J2MG59lnh41z",
        "colab_type": "code",
        "colab": {
          "base_uri": "https://localhost:8080/",
          "height": 34
        },
        "outputId": "946ca095-d4fa-4d7a-e028-b78247f2a3a9"
      },
      "source": [
        "import math\n",
        "print([i for i in range(500,1001) if i%5==0 and (math.sqrt(i) - math.floor(math.sqrt(i))) == 0])"
      ],
      "execution_count": 6,
      "outputs": [
        {
          "output_type": "stream",
          "text": [
            "[625, 900]\n"
          ],
          "name": "stdout"
        }
      ]
    },
    {
      "cell_type": "markdown",
      "metadata": {
        "id": "mZiY4NNYiJRN",
        "colab_type": "text"
      },
      "source": [
        "Get a string and store word by word as elements in a tuple and find the largest word in the tuple and print it"
      ]
    },
    {
      "cell_type": "code",
      "metadata": {
        "id": "6pHhtSY_iJjh",
        "colab_type": "code",
        "colab": {
          "base_uri": "https://localhost:8080/",
          "height": 50
        },
        "outputId": "937a2ee6-4df4-4dba-9abb-c6cb99ea4c4a"
      },
      "source": [
        "print(max((tuple(input(\"Enter a string: \").split())),key=len))"
      ],
      "execution_count": 7,
      "outputs": [
        {
          "output_type": "stream",
          "text": [
            "Enter a string: I am an engineering student\n",
            "engineering\n"
          ],
          "name": "stdout"
        }
      ]
    },
    {
      "cell_type": "markdown",
      "metadata": {
        "id": "MFgdSqzJiY-n",
        "colab_type": "text"
      },
      "source": [
        "Get rollno and marks (Rollno, mark) as list of tuples for n number of students through keyboard and print them in marks descending order with rollno."
      ]
    },
    {
      "cell_type": "code",
      "metadata": {
        "id": "HSu6P_upiZQj",
        "colab_type": "code",
        "colab": {
          "base_uri": "https://localhost:8080/",
          "height": 151
        },
        "outputId": "66c69f71-a7fa-4325-bbee-9958080f6541"
      },
      "source": [
        "print(sorted([(input(\"Enter rollno: \"), input(\"Enter marks: \")) for i in range(int(input(\"Enter number of students\")))], key=lambda x: x[1],reverse=True))"
      ],
      "execution_count": 8,
      "outputs": [
        {
          "output_type": "stream",
          "text": [
            "Enter number of students3\n",
            "Enter rollno: 1\n",
            "Enter marks: 23\n",
            "Enter rollno: 2\n",
            "Enter marks: 24\n",
            "Enter rollno: 3\n",
            "Enter marks: 21\n",
            "[('2', '24'), ('1', '23'), ('3', '21')]\n"
          ],
          "name": "stdout"
        }
      ]
    },
    {
      "cell_type": "markdown",
      "metadata": {
        "id": "QDjRcBBCimYt",
        "colab_type": "text"
      },
      "source": [
        "Get name and salary (name, salary) as list of tuples for n number of employees through keyboard and print them in name alphabetical order with salary"
      ]
    },
    {
      "cell_type": "code",
      "metadata": {
        "id": "yQbO2e91imrA",
        "colab_type": "code",
        "colab": {
          "base_uri": "https://localhost:8080/",
          "height": 185
        },
        "outputId": "4273df99-cdb6-41ab-96b2-e9af76e897fa"
      },
      "source": [
        "print(sorted([(input(\"Enter name: \"), input(\"Enter salary: \")) for i in range(int(input(\"Enter number of employees\")))], key=lambda x: x[0]))"
      ],
      "execution_count": 9,
      "outputs": [
        {
          "output_type": "stream",
          "text": [
            "Enter number of employees4\n",
            "Enter name: Sneha\n",
            "Enter salary: 25000\n",
            "Enter name: Sohan\n",
            "Enter salary: 22000\n",
            "Enter name: Sinchana\n",
            "Enter salary: 30000\n",
            "Enter name: Arun\n",
            "Enter salary: 26000\n",
            "[('Arun', '26000'), ('Sinchana', '30000'), ('Sneha', '25000'), ('Sohan', '22000')]\n"
          ],
          "name": "stdout"
        }
      ]
    }
  ]
}